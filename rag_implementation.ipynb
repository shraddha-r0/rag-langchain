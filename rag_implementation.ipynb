{
 "cells": [
  {
   "cell_type": "markdown",
   "id": "0f539436",
   "metadata": {},
   "source": [
    "## Testing implementation of a simple RAG system"
   ]
  },
  {
   "cell_type": "markdown",
   "id": "9b867177",
   "metadata": {},
   "source": [
    "This notebook is a scratch pad of experimentation of a simple RAG system along with various advanced RAG techniques, trying different models, chunking strategies and embeddings."
   ]
  },
  {
   "cell_type": "code",
   "execution_count": 3,
   "id": "bed936f2",
   "metadata": {},
   "outputs": [],
   "source": [
    "from langchain_community.document_loaders import PyPDFLoader\n",
    "from pathlib import Path\n",
    "from langchain.text_splitter import RecursiveCharacterTextSplitter\n",
    "from langchain_huggingface import HuggingFaceEmbeddings, HuggingFacePipeline\n",
    "from langchain.vectorstores import Chroma\n",
    "from langchain.chains import RetrievalQA\n",
    "from transformers import AutoTokenizer, AutoModelForSeq2SeqLM, pipeline\n",
    "from langchain_core.runnables import RunnableLambda\n",
    "from langchain.prompts import PromptTemplate\n",
    "from langchain.chat_models import ChatOpenAI\n",
    "from langchain.chains import RetrievalQA\n",
    "from langchain.chains import LLMChain\n",
    "from langchain.schema import BaseRetriever\n",
    "from typing import List, Any\n",
    "import os\n",
    "from dotenv import load_dotenv\n"
   ]
  },
  {
   "cell_type": "markdown",
   "id": "22f0bf89",
   "metadata": {},
   "source": [
    "## Run "
   ]
  },
  {
   "cell_type": "code",
   "execution_count": 2,
   "id": "dfb046d9",
   "metadata": {},
   "outputs": [
    {
     "name": "stderr",
     "output_type": "stream",
     "text": [
      "Ignoring wrong pointing object 37 0 (offset 0)\n",
      "Ignoring wrong pointing object 42 0 (offset 0)\n",
      "Ignoring wrong pointing object 91 0 (offset 0)\n",
      "Ignoring wrong pointing object 9 0 (offset 0)\n",
      "Ignoring wrong pointing object 11 0 (offset 0)\n",
      "Ignoring wrong pointing object 9 0 (offset 0)\n",
      "Ignoring wrong pointing object 11 0 (offset 0)\n",
      "Ignoring wrong pointing object 37 0 (offset 0)\n"
     ]
    }
   ],
   "source": [
    "# Load PDFs\n",
    "pdf_folder = Path(\"pdfs/\")\n",
    "\n",
    "all_docs = []\n",
    "for pdf_file in pdf_folder.glob(\"*.pdf\"):\n",
    "    loader = PyPDFLoader(str(pdf_file))\n",
    "    all_docs.extend(loader.load())"
   ]
  },
  {
   "cell_type": "code",
   "execution_count": 3,
   "id": "dc4159aa",
   "metadata": {},
   "outputs": [],
   "source": [
    "# Chunk the data using recursive chunking\n",
    "splitter = RecursiveCharacterTextSplitter(\n",
    "    chunk_size=1000,\n",
    "    chunk_overlap=50\n",
    ")\n",
    "\n",
    "chunks = splitter.split_documents(all_docs)"
   ]
  },
  {
   "cell_type": "code",
   "execution_count": 4,
   "id": "1a23f620",
   "metadata": {},
   "outputs": [],
   "source": [
    "# Load embeddings\n",
    "embeddings = HuggingFaceEmbeddings(model_name=\"sentence-transformers/all-MiniLM-L6-v2\")"
   ]
  },
  {
   "cell_type": "code",
   "execution_count": 5,
   "id": "bc1b01c2",
   "metadata": {},
   "outputs": [
    {
     "name": "stderr",
     "output_type": "stream",
     "text": [
      "/Users/shraddharamesh/Documents/Artificial Intelligence/GitHub Projects/outskill-ai-practice/rag-langchain/rag/lib/python3.13/site-packages/torch/nn/modules/module.py:1762: FutureWarning: `encoder_attention_mask` is deprecated and will be removed in version 4.55.0 for `BertSdpaSelfAttention.forward`.\n",
      "  return forward_call(*args, **kwargs)\n",
      "/var/folders/0d/_4fqv2g50f36w1vmz28wqkyr0000gn/T/ipykernel_46303/3190493980.py:9: LangChainDeprecationWarning: Since Chroma 0.4.x the manual persistence method is no longer supported as docs are automatically persisted.\n",
      "  vectordb.persist()\n"
     ]
    }
   ],
   "source": [
    "# Store the embeddings locally in ChromaDB\n",
    "\n",
    "vectordb = Chroma.from_documents(\n",
    "    documents=chunks,\n",
    "    embedding=embeddings,\n",
    "    persist_directory=\"./chroma_db\"\n",
    ")\n",
    "\n",
    "vectordb.persist()"
   ]
  },
  {
   "cell_type": "code",
   "execution_count": 9,
   "id": "d3be4142",
   "metadata": {},
   "outputs": [
    {
     "name": "stderr",
     "output_type": "stream",
     "text": [
      "Device set to use cpu\n"
     ]
    }
   ],
   "source": [
    "# Load model and tokenizer\n",
    "model_name = \"google/flan-t5-small\"  # Or try flan-t5-base if M2 can handle it\n",
    "\n",
    "tokenizer = AutoTokenizer.from_pretrained(model_name)\n",
    "model = AutoModelForSeq2SeqLM.from_pretrained(model_name)\n",
    "\n",
    "# Create text2text pipeline (note: temperature may be ignored)\n",
    "hf_pipeline = pipeline(\n",
    "    \"text2text-generation\",\n",
    "    model=model,\n",
    "    tokenizer=tokenizer,\n",
    "    max_length=512,\n",
    "    device=-1\n",
    ")\n",
    "\n",
    "# Wrap in LangChain HuggingFace LLM (new path!)\n",
    "hf_llm = HuggingFacePipeline(pipeline=hf_pipeline)"
   ]
  },
  {
   "cell_type": "code",
   "execution_count": 10,
   "id": "e1c0092b",
   "metadata": {},
   "outputs": [],
   "source": [
    "retriever = vectordb.as_retriever()\n",
    "\n",
    "qa_chain = RetrievalQA.from_chain_type(\n",
    "    llm=hf_llm,\n",
    "    retriever=retriever,\n",
    "    chain_type=\"stuff\"\n",
    ")"
   ]
  },
  {
   "cell_type": "code",
   "execution_count": 11,
   "id": "0b2e6bca",
   "metadata": {},
   "outputs": [
    {
     "name": "stdout",
     "output_type": "stream",
     "text": [
      "ornithology ornithology\n"
     ]
    }
   ],
   "source": [
    "response = hf_llm.invoke(\"What is ornithology?\")\n",
    "print(response)"
   ]
  },
  {
   "cell_type": "code",
   "execution_count": 12,
   "id": "edb9568f",
   "metadata": {},
   "outputs": [
    {
     "name": "stderr",
     "output_type": "stream",
     "text": [
      "/Users/shraddharamesh/Documents/Artificial Intelligence/GitHub Projects/outskill-ai-practice/rag-langchain/rag/lib/python3.13/site-packages/torch/nn/modules/module.py:1762: FutureWarning: `encoder_attention_mask` is deprecated and will be removed in version 4.55.0 for `BertSdpaSelfAttention.forward`.\n",
      "  return forward_call(*args, **kwargs)\n",
      "Token indices sequence length is longer than the specified maximum sequence length for this model (541 > 512). Running this sequence through the model will result in indexing errors\n"
     ]
    },
    {
     "name": "stdout",
     "output_type": "stream",
     "text": [
      "🔹 LLM-Only Response:\n",
      " Ornithology\n",
      "\n",
      "================================================================================\n",
      "\n",
      "🔸 RAG-Augmented Response:\n",
      " {'query': 'What is ornithology?', 'result': 'Ornithology is a branch of science devoted to the study of birds. Ornithology encompasses all types of research involving birds, such as habitat studies and migration patterns. Ornithology encompasses all types of research involving birds, such as habitat studies and migration patterns. Ornithology encompasses all types of research involving birds, such as habitat studies and migration patterns. Ornithology encompasses all types of research involving birds, such as habitat studies and migration patterns. Ornithology encompasses all types of research involving birds, such as habitat studies and migration patterns. Ornithology encompasses all types of research involving birds, such as habitat studies and migration patterns. Ornithology encompasses all types of research involving birds, such as habitat studies and migration patterns. Ornithology encompasses all types of research involving birds, such as habitat studies and migration patterns. Ornithology encompasses all types of research involving birds, such as habitat studies and migration patterns. Ornithology encompasses all types of research involving birds, such as habitat studies and migration patterns. Ornithology encompasses all types of research involving birds, such as habitat studies and migration patterns. Ornithology encompasses all types of research involving birds, such as habitat studies and migration patterns. Ornithology encompasses all types of research involving birds, such as habitat studies and migration patterns. Ornithology encompasses all types of research involving birds, such as habitat studies and migration patterns. Ornithology encompasses all types of research involving birds, such as habitat studies and migration patterns. Ornithology encompasses all types of research involving birds, such as habitat studies and migration patterns. Ornithology encompasses all types of research involving birds, such as habitat studies and migration patterns. Ornithology encompasses all types of research involving birds, such as habitat studies and migration patterns. Ornithology encompasses all types of research involving birds, such as habitat studies and migration patterns. Ornithology encompasses all types of research involving birds, such as habitat studies and migration patterns. Ornithology encompasses all types of research'}\n"
     ]
    }
   ],
   "source": [
    "query = \"What is ornithology?\"\n",
    "\n",
    "# ✅ RAG response (using LangChain's new `.invoke()` method)\n",
    "response_rag = qa_chain.invoke(query)\n",
    "\n",
    "# ✅ LLM-only response\n",
    "ragless_prompt = f\"Answer the following question:\\n{query}\"\n",
    "response_llm_only = hf_llm.invoke(ragless_prompt)\n",
    "\n",
    "# 📊 Display the results\n",
    "print(\"🔹 LLM-Only Response:\\n\", response_llm_only)\n",
    "print(\"\\n\" + \"=\"*80 + \"\\n\")\n",
    "print(\"🔸 RAG-Augmented Response:\\n\", response_rag)"
   ]
  },
  {
   "cell_type": "markdown",
   "id": "f138caa4",
   "metadata": {},
   "source": [
    "### Test with Open AI LLM"
   ]
  },
  {
   "cell_type": "code",
   "execution_count": 6,
   "id": "044d0738",
   "metadata": {},
   "outputs": [],
   "source": [
    "load_dotenv()  # take environment variables from .env.\n",
    "OPENAI_API_KEY = os.getenv(\"OPENAI_API_KEY\")\n",
    "\n",
    "if not OPENAI_API_KEY:\n",
    "    raise ValueError(\"OPENAI_API_KEY is not set. Please set it in your .env file.\")"
   ]
  },
  {
   "cell_type": "code",
   "execution_count": 16,
   "id": "a09878d2",
   "metadata": {},
   "outputs": [],
   "source": [
    "# A prompt template with RAG context\n",
    "prompt_template = PromptTemplate(\n",
    "    input_variables=[\"context\", \"question\"],\n",
    "    template='''\n",
    "    Given the context below, answer the question to the best of your ability.\n",
    "    If the context doesn't contain the answer, say \"I don't know\".\n",
    "\n",
    "    Context: {context}\n",
    "\n",
    "    Question: {question}\n",
    "\n",
    "    Answer:\n",
    "    '''\n",
    ")\n"
   ]
  },
  {
   "cell_type": "code",
   "execution_count": 23,
   "id": "c289b787",
   "metadata": {},
   "outputs": [],
   "source": [
    "# ✅ LLM Setup\n",
    "llm = ChatOpenAI(model_name=\"gpt-3.5-turbo\", temperature=0)"
   ]
  },
  {
   "cell_type": "code",
   "execution_count": 24,
   "id": "9f88377d",
   "metadata": {},
   "outputs": [],
   "source": [
    "# ✅ Retrieval setup (RAG)\n",
    "rag_chain = RetrievalQA.from_chain_type(\n",
    "    llm=llm,\n",
    "    chain_type=\"stuff\",\n",
    "    retriever=vectordb.as_retriever(search_kwargs={\"k\": 3}),\n",
    "    return_source_documents=True,\n",
    "    chain_type_kwargs={\"prompt\": prompt_template}\n",
    ")"
   ]
  },
  {
   "cell_type": "code",
   "execution_count": null,
   "id": "f9fb20c3",
   "metadata": {},
   "outputs": [
    {
     "name": "stderr",
     "output_type": "stream",
     "text": [
      "/Users/shraddharamesh/Documents/Artificial Intelligence/GitHub Projects/outskill-ai-practice/rag-langchain/rag/lib/python3.13/site-packages/torch/nn/modules/module.py:1762: FutureWarning: `encoder_attention_mask` is deprecated and will be removed in version 4.55.0 for `BertSdpaSelfAttention.forward`.\n",
      "  return forward_call(*args, **kwargs)\n"
     ]
    },
    {
     "name": "stdout",
     "output_type": "stream",
     "text": [
      "🔸 LLM-Only Response:\n",
      " The main functions of bird feathers are insulation, flight, protection, and display.\n",
      "\n",
      "================================================================================\n",
      "\n",
      "🔹 RAG-Augmented Response:\n",
      " The main functions of bird feathers include insulation, flight, waterproofing, communication, and camouflage.\n",
      "\n",
      "Sources:\n",
      "- pdfs/Chapter_2_TopographyFeathersandFlight.pdf, page 9\n",
      "- pdfs/Chapter_2_TopographyFeathersandFlight.pdf, page 9\n",
      "- pdfs/Chapter_2_TopographyFeathersandFlight.pdf, page 9\n"
     ]
    }
   ],
   "source": [
    "\n",
    "# ✅ Query to compare\n",
    "query = \"What are the main functions of bird feathers?\"\n",
    "\n",
    "# 🔸 1. LLM-Only (No RAG)\n",
    "llm_only_prompt = f\"Answer the following question clearly and concisely:\\n\\n{query}\"\n",
    "llm_only_response = llm.invoke(llm_only_prompt)\n",
    "\n",
    "# 🔹 2. RAG-Based (uses retrieved context)\n",
    "rag_response = rag_chain({\"query\": query})\n",
    "\n",
    "# 🖥️ Print Results\n",
    "print(\"🔸 LLM-Only Response:\\n\", llm_only_response.content)\n",
    "print(\"\\n\" + \"=\"*80 + \"\\n\")\n",
    "print(\"🔹 RAG-Augmented Response:\\n\", rag_response['result'])\n",
    "print(\"\\nSources:\")\n",
    "for doc in rag_response[\"source_documents\"]:\n",
    "    print(f\"- {doc.metadata.get('source', 'Unknown source')}, page {doc.metadata.get('page', 'N/A')}\")\n"
   ]
  },
  {
   "cell_type": "code",
   "execution_count": 18,
   "id": "b60dfecd",
   "metadata": {},
   "outputs": [
    {
     "name": "stderr",
     "output_type": "stream",
     "text": [
      "/Users/shraddharamesh/Documents/Artificial Intelligence/GitHub Projects/outskill-ai-practice/rag-langchain/rag/lib/python3.13/site-packages/torch/nn/modules/module.py:1762: FutureWarning: `encoder_attention_mask` is deprecated and will be removed in version 4.55.0 for `BertSdpaSelfAttention.forward`.\n",
      "  return forward_call(*args, **kwargs)\n"
     ]
    },
    {
     "name": "stdout",
     "output_type": "stream",
     "text": [
      "🔸 LLM-Only Response:\n",
      " Songbirds are diverse due to a combination of factors such as their ability to adapt to various habitats, their diverse diets, and their unique vocalizations for communication and mating purposes.\n",
      "\n",
      "================================================================================\n",
      "\n",
      "🔹 RAG-Augmented Response:\n",
      " Songbirds are diverse due to their ability to learn songs and other mate-attracting or territory-protecting behaviors, which are potential key innovations that drive diversity in this group of birds.\n",
      "\n",
      "Sources:\n",
      "- pdfs/Chapter_1_FundamentalsofOrnithology.pdf, page 13\n",
      "- pdfs/Chapter_1_FundamentalsofOrnithology.pdf, page 13\n",
      "- pdfs/Chapter_1_FundamentalsofOrnithology.pdf, page 13\n"
     ]
    }
   ],
   "source": [
    "# ✅ Query to compare\n",
    "query = \"Why are songbirds so diverse? Be brief.\"\n",
    "\n",
    "# 🔸 1. LLM-Only (No RAG)\n",
    "llm_only_prompt = f\"Answer the following question clearly and concisely:\\n\\n{query}\"\n",
    "llm_only_response = llm.invoke(llm_only_prompt)\n",
    "\n",
    "# 🔹 2. RAG-Based (uses retrieved context)\n",
    "rag_response = rag_chain({\"query\": query})\n",
    "\n",
    "# 🖥️ Print Results\n",
    "print(\"🔸 LLM-Only Response:\\n\", llm_only_response.content)\n",
    "print(\"\\n\" + \"=\"*80 + \"\\n\")\n",
    "print(\"🔹 RAG-Augmented Response:\\n\", rag_response['result'])\n",
    "print(\"\\nSources:\")\n",
    "for doc in rag_response[\"source_documents\"]:\n",
    "    print(f\"- {doc.metadata.get('source', 'Unknown source')}, page {doc.metadata.get('page', 'N/A')}\")\n"
   ]
  },
  {
   "cell_type": "code",
   "execution_count": 20,
   "id": "63aca748",
   "metadata": {},
   "outputs": [
    {
     "name": "stderr",
     "output_type": "stream",
     "text": [
      "/Users/shraddharamesh/Documents/Artificial Intelligence/GitHub Projects/outskill-ai-practice/rag-langchain/rag/lib/python3.13/site-packages/torch/nn/modules/module.py:1762: FutureWarning: `encoder_attention_mask` is deprecated and will be removed in version 4.55.0 for `BertSdpaSelfAttention.forward`.\n",
      "  return forward_call(*args, **kwargs)\n"
     ]
    },
    {
     "name": "stdout",
     "output_type": "stream",
     "text": [
      "🔸 LLM-Only Response:\n",
      " | Aspect          | Bird Bones                  | Reptile Bones               |\n",
      "|-----------------|-----------------------------|-----------------------------|\n",
      "| Structure       | Hollow and lightweight      | Solid and heavier           |\n",
      "| Composition     | Mostly made of calcium      | Mostly made of calcium      |\n",
      "| Mobility        | More flexible and mobile    | Less flexible and mobile    |\n",
      "| Functionality  | Adapted for flight          | Adapted for crawling and swimming |\n",
      "| Growth          | Continuously grow throughout life | Stop growing once maturity is reached |\n",
      "\n",
      "================================================================================\n",
      "\n",
      "🔹 RAG-Augmented Response:\n",
      " | Aspect          | Birds                  | Reptiles               |\n",
      "|-----------------|------------------------|------------------------|\n",
      "| Skull           | Single ball and socket | Single ball and socket |\n",
      "| Ear             | One ear bone (stapes)  | One ear bone (stapes)  |\n",
      "| Lower jaw bones | Five or six            | Five or six            |\n",
      "| Ankle           | Tarsal bones           | Long lower leg bones   |\n",
      "- pdfs/Chapter_1_FundamentalsofOrnithology.pdf, page 0\n",
      "- pdfs/Chapter_1_FundamentalsofOrnithology.pdf, page 0\n",
      "- pdfs/Chapter_1_FundamentalsofOrnithology.pdf, page 0\n"
     ]
    }
   ],
   "source": [
    "# ✅ Query to compare\n",
    "query = \"How are bird bones similar and different to that of reptiles? Answer in a tabular form\"\n",
    "\n",
    "# 🔸 1. LLM-Only (No RAG)\n",
    "llm_only_prompt = f\"Answer the following question clearly and concisely:\\n\\n{query}\"\n",
    "llm_only_response = llm.invoke(llm_only_prompt)\n",
    "\n",
    "# 🔹 2. RAG-Based (uses retrieved context)\n",
    "rag_response = rag_chain({\"query\": query})\n",
    "\n",
    "# 🖥️ Print Results\n",
    "print(\"🔸 LLM-Only Response:\\n\", llm_only_response.content)\n",
    "print(\"\\n\" + \"=\"*80 + \"\\n\")\n",
    "print(\"🔹 RAG-Augmented Response:\\n\", rag_response['result'])\n",
    "for doc in rag_response[\"source_documents\"]:\n",
    "    print(f\"- {doc.metadata.get('source', 'Unknown source')}, page {doc.metadata.get('page', 'N/A')}\")\n"
   ]
  },
  {
   "cell_type": "markdown",
   "id": "50160b66",
   "metadata": {},
   "source": [
    "### Advanced RAG Fusion techniques"
   ]
  },
  {
   "cell_type": "code",
   "execution_count": 31,
   "id": "f4fb7324",
   "metadata": {},
   "outputs": [],
   "source": [
    "# 1. Create a query transformation prompt\n",
    "query_transform_prompt = PromptTemplate(\n",
    "    input_variables=[\"original_query\"],\n",
    "    template=\"\"\"You are an expert assistant that transforms user questions into clear, unambiguous search queries to help retrieve the most relevant information from a knowledge base.\n",
    "\n",
    "    Your job is to:\n",
    "    - Clarify vague or incomplete questions.\n",
    "    - Remove irrelevant words or noise.\n",
    "    - Preserve the user’s intent and specificity.\n",
    "    - Output a standalone, well-formed query optimized for semantic retrieval.\n",
    "\n",
    "    Follow these guidelines:\n",
    "    - Be concise and specific.\n",
    "    - Remove filler phrases (e.g., \"can you tell me\", \"I want to know about...\").\n",
    "    - Expand acronyms or shorthand when appropriate.\n",
    "    - Include relevant context if mentioned.\n",
    "    - Do not answer the question—only rewrite it. Original query: {original_query}\n",
    "    Transformed query:\"\"\"\n",
    ")\n",
    "\n",
    "# 2. Create a query transformation chain\n",
    "query_transformer = LLMChain(\n",
    "    llm=llm,\n",
    "    prompt=query_transform_prompt\n",
    ")\n",
    "\n",
    "# 3. Create your RAG chain with the transforming retriever\n",
    "rag_chain = RetrievalQA.from_chain_type(\n",
    "    llm=llm,\n",
    "    chain_type=\"stuff\",\n",
    "    retriever=vectordb.as_retriever(search_kwargs={\"k\": 3}),\n",
    "    return_source_documents=True,\n",
    "    chain_type_kwargs={\n",
    "        \"prompt\": prompt_template,\n",
    "        \"document_prompt\": PromptTemplate(\n",
    "            input_variables=[\"page_content\"],\n",
    "            template=\"{page_content}\"\n",
    "        )\n",
    "    }\n",
    ")\n",
    "\n",
    "# 4. Create a wrapper function that handles the query transformation\n",
    "def get_rag_response(query):\n",
    "    # Transform the query\n",
    "    transformed_query = query_transformer.run(original_query=query).strip('\"\\' \\n')\n",
    "    print(f\"Original query: {query}\")\n",
    "    print(f\"Transformed query: {transformed_query}\")\n",
    "    \n",
    "    # Get RAG response using the transformed query for retrieval\n",
    "    # but the original query for the final answer generation\n",
    "    result = rag_chain({\"query\": transformed_query, \"question\": query})\n",
    "    return result\n",
    "\n",
    "# Example usage:\n",
    "# response = get_rag_response(\"What do birds use to fly?\")\n",
    "# print(response[\"result\"])"
   ]
  },
  {
   "cell_type": "code",
   "execution_count": 32,
   "id": "6f5feee7",
   "metadata": {},
   "outputs": [
    {
     "name": "stdout",
     "output_type": "stream",
     "text": [
      "Original query: What do birds use to fly?\n",
      "Transformed query: How do birds fly?\n"
     ]
    },
    {
     "name": "stderr",
     "output_type": "stream",
     "text": [
      "/Users/shraddharamesh/Documents/Artificial Intelligence/GitHub Projects/outskill-ai-practice/rag-langchain/rag/lib/python3.13/site-packages/torch/nn/modules/module.py:1762: FutureWarning: `encoder_attention_mask` is deprecated and will be removed in version 4.55.0 for `BertSdpaSelfAttention.forward`.\n",
      "  return forward_call(*args, **kwargs)\n"
     ]
    },
    {
     "name": "stdout",
     "output_type": "stream",
     "text": [
      "Birds fly by flapping their wings and guiding with their tails.\n"
     ]
    }
   ],
   "source": [
    "response = get_rag_response(\"What do birds use to fly?\")\n",
    "print(response[\"result\"])"
   ]
  },
  {
   "cell_type": "code",
   "execution_count": 34,
   "id": "91b375c8",
   "metadata": {},
   "outputs": [
    {
     "name": "stdout",
     "output_type": "stream",
     "text": [
      "Original query: How are bird bones similar and different to that of reptiles?\n",
      "Transformed query: Differences and similarities between bird and reptile bones.\n"
     ]
    },
    {
     "name": "stderr",
     "output_type": "stream",
     "text": [
      "/Users/shraddharamesh/Documents/Artificial Intelligence/GitHub Projects/outskill-ai-practice/rag-langchain/rag/lib/python3.13/site-packages/torch/nn/modules/module.py:1762: FutureWarning: `encoder_attention_mask` is deprecated and will be removed in version 4.55.0 for `BertSdpaSelfAttention.forward`.\n",
      "  return forward_call(*args, **kwargs)\n"
     ]
    },
    {
     "name": "stdout",
     "output_type": "stream",
     "text": [
      "Similarities between bird and reptile bones include having a single ball and socket system connecting their skulls to the first vertebra, having a primary middle ear with only one ear bone (the stapes), and having five or six bones on each side of their lower jaws.\n",
      "\n",
      "Differences between bird and reptile bones include birds having ankles located in the tarsal bones rather than the long lower leg bones (tibia and tarsi) like mammals have.\n"
     ]
    }
   ],
   "source": [
    "response = get_rag_response(\"How are bird bones similar and different to that of reptiles?\")\n",
    "print(response[\"result\"])"
   ]
  },
  {
   "cell_type": "code",
   "execution_count": 35,
   "id": "befea8e7",
   "metadata": {},
   "outputs": [
    {
     "name": "stdout",
     "output_type": "stream",
     "text": [
      "Original query: Why are songbirds also called passerines so diverse like there are literally so many of them, and they are so colourful and have such interesting vocal abilities. How did they come to be so diverse?\n",
      "Transformed query: What factors contribute to the diversity of passerine songbirds and how did this diversity evolve?\n"
     ]
    },
    {
     "name": "stderr",
     "output_type": "stream",
     "text": [
      "/Users/shraddharamesh/Documents/Artificial Intelligence/GitHub Projects/outskill-ai-practice/rag-langchain/rag/lib/python3.13/site-packages/torch/nn/modules/module.py:1762: FutureWarning: `encoder_attention_mask` is deprecated and will be removed in version 4.55.0 for `BertSdpaSelfAttention.forward`.\n",
      "  return forward_call(*args, **kwargs)\n"
     ]
    },
    {
     "name": "stdout",
     "output_type": "stream",
     "text": [
      "The factors that contribute to the diversity of passerine songbirds include their small size, sperm structure, vocal abilities, perching foot, and high metabolism. The evolution of this diversity is attributed to the rich 65-million-year history of evolution, expansions, and reductions of new taxa.\n"
     ]
    }
   ],
   "source": [
    "query = \"Why are songbirds also called passerines so diverse like there are literally so many of them, and they are so colourful and have such interesting vocal abilities. How did they come to be so diverse?\"\n",
    "response = get_rag_response(query)\n",
    "print(response[\"result\"])\n"
   ]
  },
  {
   "cell_type": "code",
   "execution_count": null,
   "id": "89aff27b",
   "metadata": {},
   "outputs": [],
   "source": []
  }
 ],
 "metadata": {
  "kernelspec": {
   "display_name": "rag",
   "language": "python",
   "name": "python3"
  },
  "language_info": {
   "codemirror_mode": {
    "name": "ipython",
    "version": 3
   },
   "file_extension": ".py",
   "mimetype": "text/x-python",
   "name": "python",
   "nbconvert_exporter": "python",
   "pygments_lexer": "ipython3",
   "version": "3.13.5"
  }
 },
 "nbformat": 4,
 "nbformat_minor": 5
}
